{
 "cells": [
  {
   "cell_type": "code",
   "execution_count": 2,
   "metadata": {},
   "outputs": [],
   "source": [
    "import pandas as pd\n",
    "import numpy as np\n",
    "\n",
    "import matplotlib as mpl\n",
    "import matplotlib.pyplot as plt"
   ]
  },
  {
   "cell_type": "code",
   "execution_count": 3,
   "metadata": {},
   "outputs": [
    {
     "name": "stdout",
     "output_type": "stream",
     "text": [
      "                                                   text\n",
      "0     Oh make me over  \\nI'm all I wanna be  \\nA wal...\n",
      "1     Buongiorno Teresa  \\nLike the sun you brighten...\n",
      "2     Outside the house Mr. Simpson announced  \\nTha...\n",
      "3     He was a good lookin' guy  \\nStood about six f...\n",
      "4     Tonight we're gonna have a good time  \\nOh we'...\n",
      "5     So this is permanent, love's shattered pride. ...\n",
      "6     I'm taking off this hat  \\nAnd walking to the ...\n",
      "7     Realization comes through reaping  \\nReality c...\n",
      "8     Back to bring the beat  \\nGive me my boombox  ...\n",
      "9     Here I am, dancing in the wind  \\nMy back to y...\n",
      "10    Here's another Sunday morning call  \\nYer hear...\n",
      "11    Seven islands to the high side of the bay, 'cr...\n",
      "12    I'm happy you came to me first  \\nBefore the b...\n",
      "13    Never had trouble sleepin'  \\nAlways had someo...\n",
      "14    In a class room at the grade school just befor...\n",
      "15    I can't believe what you did to me  \\nDown on ...\n",
      "16    Everybody's got a thing  \\nBut some don't know...\n",
      "17    Thenardier  \\nWhat to do? What to say?  \\nShal...\n",
      "18    Well a man come on the 6 o'clock news  \\nSaid ...\n",
      "19    Oh the weather outside is frightful  \\nBut the...\n",
      "20    \"Never look back,\" we said  \\nHow was I to kno...\n",
      "21    Men made out of monkeys  \\nMen made into mice ...\n",
      "22    Whoa, whoa, ha, yeah, hm, oh  \\nGood morning h...\n",
      "23    I'm a creature of the street  \\nAnd I rip off ...\n",
      "24    [Lady Gaga:]  \\nI can't give you anything but ...\n",
      "25    It's irregular and it sure won't pay  \\nbut sa...\n",
      "26    Lots of surprises in store  \\nThis isn't a par...\n",
      "27    This old guitar and me  \\nAnd the things that ...\n",
      "28    Now don't look down  \\n'Cause you might just s...\n",
      "29    I've been searching through rains  \\nAnd the w...\n",
      "...                                                 ...\n",
      "4970  How'd ja like to spend Christmas on Christmas ...\n",
      "4971  Early mornin' lookin' tired and worn  \\nAnd lo...\n",
      "4972  Sitting in my room  \\nRecord player on  \\nSitt...\n",
      "4973  The snitch, the snoop, the tattletale  \\nLead ...\n",
      "4974  They wokw up early on Christmas morning  \\nThe...\n",
      "4975  I sit by my window, watch the clouds go by  \\n...\n",
      "4976  Sled dogs after dinner  \\nClose their eyes on ...\n",
      "4977  I'm long gone from vertical, somewhere south i...\n",
      "4978  Tell everybody I'm on my way  \\nNew friends an...\n",
      "4979  Gypsy, sittin' lookin' pretty  \\nThe broken ro...\n",
      "4980  I want to tell you all a story 'bout a harper ...\n",
      "4981  If you see me smile don't think I'm acting str...\n",
      "4982  Well, I just want to clear the air,  \\nI alrea...\n",
      "4983  Tonight will be for the first time  \\nI have l...\n",
      "4984  Hey Mike, Mike...MIKE! TURN ME UP!  \\nRight ab...\n",
      "4985  Shake it, shake it  \\nI can do this all night ...\n",
      "4986  Oh what a lucky day  \\nThings are going my way...\n",
      "4987  I got a name and number  \\nI got a bed assigne...\n",
      "4988  I'm getting bored  \\nBeing part of mankind  \\n...\n",
      "4989  Under suburban skies  \\nWhere life is bleeding...\n",
      "4990  Well, I woke up today and found frost perched ...\n",
      "4991  All of my life  \\nNeeded a reason  \\nto find o...\n",
      "4992  Meanie Leanie come on down  \\nCome and enterta...\n",
      "4993  Yea  \\n  \\nGo hard today  \\nThe past is the pa...\n",
      "4994  You make it all sound easy  \\nNow you've taste...\n",
      "4995  Lead in me and me in water  \\nDangling in my w...\n",
      "4996  I want to live with a cinnamon girl  \\nI could...\n",
      "4997  A young man fell in love with truth  \\nIn sear...\n",
      "4998  Jolly old Saint Nicholas lean your ear this wa...\n",
      "4999  Leave the station  \\nSomewhere down in east  \\...\n",
      "\n",
      "[5000 rows x 1 columns]\n"
     ]
    }
   ],
   "source": [
    "df = pd.read_csv('./data/songdata5000.csv')\n",
    "lyrics = df.iloc[:, [-1]]\n",
    "print(lyrics)"
   ]
  },
  {
   "cell_type": "code",
   "execution_count": 4,
   "metadata": {},
   "outputs": [],
   "source": [
    "# read all lyrics into a corpus in lower case and get rid of all apostrophes\n",
    "corpus1 = lyrics.iloc[:,-1].tolist()\n",
    "corpus = [x.lower().replace('.','').replace(',','').replace(\"(\",'').replace(\")\",'').replace(\"?\",'') for x in corpus1]"
   ]
  },
  {
   "cell_type": "code",
   "execution_count": 5,
   "metadata": {},
   "outputs": [
    {
     "name": "stderr",
     "output_type": "stream",
     "text": [
      "[nltk_data] Downloading package punkt to\n",
      "[nltk_data]     /Users/felixholmberg/nltk_data...\n",
      "[nltk_data]   Package punkt is already up-to-date!\n",
      "[nltk_data] Downloading package stopwords to\n",
      "[nltk_data]     /Users/felixholmberg/nltk_data...\n",
      "[nltk_data]   Package stopwords is already up-to-date!\n"
     ]
    }
   ],
   "source": [
    "import nltk\n",
    "nltk.download('punkt')\n",
    "nltk.download('stopwords')\n",
    "from nltk.corpus import stopwords\n",
    "from nltk.tokenize import TweetTokenizer\n",
    "import string"
   ]
  },
  {
   "cell_type": "code",
   "execution_count": 6,
   "metadata": {},
   "outputs": [
    {
     "name": "stdout",
     "output_type": "stream",
     "text": [
      "[(\"'\", 10307), (\"i'm\", 9203), ('love', 7808), ('know', 6057), ('oh', 5357), ('like', 5222), ('got', 4166), ('get', 3928), ('time', 3835), ('go', 3780)]\n",
      "<FreqDist with 26778 samples and 578967 outcomes>\n"
     ]
    },
    {
     "data": {
      "image/png": "[encoded data removed]",
      "text/plain": [
       "<Figure size 432x288 with 1 Axes>"
      ]
     },
     "metadata": {
      "needs_background": "light"
     },
     "output_type": "display_data"
    },
    {
     "data": {
      "text/plain": [
       "<matplotlib.axes._subplots.AxesSubplot at 0x1a1838e8d0>"
      ]
     },
     "execution_count": 6,
     "metadata": {},
     "output_type": "execute_result"
    }
   ],
   "source": [
    "# Frequency Distribution \n",
    "\n",
    "#this is transforming the list into a string\n",
    "corpusstring = ' '.join(corpus)\n",
    "\n",
    "#tweettokenizer is different because it does not separate words with apostrophes. \n",
    "tknzr = TweetTokenizer()\n",
    "corpusstring = tknzr.tokenize(corpusstring)\n",
    "stop_words = set(stopwords.words('english'))\n",
    "#removing stopwords in the string\n",
    "corpusstring = [word for word in corpusstring if not word in stop_words]\n",
    "\n",
    "fdistlyrics = nltk.FreqDist(corpusstring)\n",
    "print(fdistlyrics.most_common(10))\n",
    "print(fdistlyrics)\n",
    "fdistlyrics.plot(10, cumulative = True, title = \"Lyrics\")"
   ]
  },
  {
   "cell_type": "code",
   "execution_count": 8,
   "metadata": {},
   "outputs": [
    {
     "name": "stdout",
     "output_type": "stream",
     "text": [
      "Extracting features from the training dataset \n",
      "n_samples: 5000, n_features: 5000\n",
      "\n",
      "Clustering sparse data with KMeans(algorithm='auto', copy_x=True, init='k-means++', max_iter=1000,\n",
      "       n_clusters=6, n_init=1, n_jobs=None, precompute_distances='auto',\n",
      "       random_state=None, tol=0.0001, verbose=0)\n",
      "Cluster 0: praise forever sing endures continual hallelujah worthy overcome compares fall\n",
      "Cluster 1: money donkey beautiful works riding rich hard ain easy die\n",
      "Cluster 2: oh love baby don yeah want ll got know like\n",
      "Cluster 3: la ee odl lay tra kids directions lee marley sha\n",
      "Cluster 4: bala dont stop force want make im bang dawg thats\n",
      "Cluster 5: lang bale na di ko kaya niya ako ang pa\n"
     ]
    }
   ],
   "source": [
    "# we need our tfidf function\n",
    "from sklearn import metrics\n",
    "from sklearn.feature_extraction.text import CountVectorizer \n",
    "from sklearn.cluster import KMeans\n",
    "\n",
    "\n",
    "def tfidf_vectorizer(corpus):\n",
    "    cvect = CountVectorizer(lowercase=True, max_features=5000, \n",
    "                          max_df=0.8, \n",
    "                          stop_words=\"english\") \n",
    "    count_matrix = cvect.fit_transform(corpus) \n",
    "    features = cvect.get_feature_names() \n",
    "    \n",
    "    count_matrix = pd.DataFrame(count_matrix.todense()) \n",
    "    df_vect = count_matrix.astype(bool).sum(axis=0) \n",
    "    df_vect = np.log(len(corpus) / df_vect) \n",
    "    \n",
    "    return features, np.array(count_matrix * df_vect) \n",
    "\n",
    "print(\"Extracting features from the training dataset \")\n",
    "\n",
    "terms, X = tfidf_vectorizer(corpus)\n",
    "\n",
    "print(\"n_samples: %d, n_features: %d\" % X.shape)\n",
    "print()\n",
    "\n",
    "n_clusters = 6\n",
    "\n",
    "km = KMeans(n_clusters, init='k-means++', max_iter=1000, n_init=1)\n",
    "\n",
    "print(\"Clustering sparse data with %s\" % km)\n",
    "\n",
    "km.fit(X)\n",
    "\n",
    "order_centroids = km.cluster_centers_.argsort()[:, ::-1]\n",
    "\n",
    "for i in range(n_clusters):\n",
    "    print(\"Cluster %d:\" % i, end='')\n",
    "    for ind in order_centroids[i, :10]:\n",
    "        print(' %s' % terms[ind], end='')\n",
    "    print()"
   ]
  },
  {
   "cell_type": "code",
   "execution_count": 9,
   "metadata": {},
   "outputs": [
    {
     "name": "stdout",
     "output_type": "stream",
     "text": [
      "[2 2 2 2 2 2 2 2 2 2 2 2 2 2 2 2 2 2 2 2 2 2 2 2 2 2 2 2 2 2 2 2 2 2 2 2 2\n",
      " 2 2 2 2 2 2 2 2 2 2 2 2 2 2 2 2 2 2 2 2 2 2 2 2 2 2 2 2 2 2 2 2 2 2 2 2 2\n",
      " 2 2 2 2 2 2 2 2 2 2 2 2 2 2 2 2 2 2 2 2 2 2 2 2 2 2 2 2 2 2 2 2 2 2 2 2 2\n",
      " 2 2 2 2 2 2 2 2 2 2 2 2 2 2 2 2 2 2 2 2 2 2 2 2 2 2 2 2 2 2 2 2 2 2 2 2 2\n",
      " 2 2 2 2 2 2 2 2 2 2 2 2 2 2 2 2 2 2 2 2 2 2 2 2 2 2 2 2 2 2 2 2 2 2 2 2 2\n",
      " 2 2 2 2 2 2 2 2 2 2 2 2 2 2 2 2 2 2 2 2 2 2 2 2 2 2 2 2 2 2 2 2 2 2 2 2 2\n",
      " 2 2 2 2 2 2 2 2 2 2 2 2 2 2 2 2 2 2 2 2 2 2 2 2 2 2 2 3 2 2 2 2 2 2 2 2 2\n",
      " 2 2 2 2 2 2 2 2 2 2 2 2 2 2 2 2 2 2 2 2 2 2 2 2 2 2 2 2 2 2 2 2 2 2 2 2 2\n",
      " 2 2 2 2 2 2 2 2 2 2 2 2 2 2 2 2 2 2 2 2 2 2 2 2 2 2 2 2 2 2 2 2 2 2 2 2 2\n",
      " 2 2 2 2 2 2 2 2 2 2 2 2 2 2 2 2 2 2 5 2 2 2 2 2 2 2 2 2 2 2 2 2 2 2 2 1 2\n",
      " 2 2 2 2 2 2 2 2 2 2 2 2 2 2 2 2 2 2 2 2 2 2 2 2 2 2 2 2 2 2 2 2 2 2 2 2 2\n",
      " 2 2 2 2 2 2 2 2 2 2 2 2 2 2 2 2 2 2 2 2 2 2 2 2 2 2 2 2 2 2 2 2 2 2 2 2 2\n",
      " 2 2 2 2 2 2 2 2 2 2 2 2 2 2 2 2 2 2 2 2 2 2 2 2 2 2 2 2 2 2 2 2 2 2 2 2 2\n",
      " 2 2 2 2 2 2 2 2 2 2 2 2 2 2 2 2 2 2 2]\n"
     ]
    }
   ],
   "source": [
    "# Clustering prediction\n",
    "predictions = km.predict(X)\n",
    "print(predictions[:500])"
   ]
  },
  {
   "cell_type": "code",
   "execution_count": 10,
   "metadata": {},
   "outputs": [
    {
     "name": "stderr",
     "output_type": "stream",
     "text": [
      "[nltk_data] Downloading package vader_lexicon to\n",
      "[nltk_data]     /Users/felixholmberg/nltk_data...\n"
     ]
    }
   ],
   "source": [
    "nltk.download('vader_lexicon')\n",
    "from nltk.tokenize import word_tokenize\n",
    "# Rule based sentiment analysis with Vader\n",
    "from nltk.sentiment.vader import SentimentIntensityAnalyzer\n",
    "\n",
    "sid = SentimentIntensityAnalyzer() \n",
    "sentiment_list = []\n",
    "for t in corpus:\n",
    "    ss = sid.polarity_scores(t)\n",
    "    sentiment_list.append(ss)\n",
    "\n",
    "## convert list of sentiment scores to a dataframe\n",
    "sentiment_df = pd.DataFrame(sentiment_list)"
   ]
  },
  {
   "cell_type": "code",
   "execution_count": 12,
   "metadata": {},
   "outputs": [
    {
     "name": "stdout",
     "output_type": "stream",
     "text": [
      "      compound    neg    neu    pos\n",
      "3808    0.9989  0.060  0.318  0.623\n",
      "4574    0.9987  0.044  0.346  0.609\n",
      "1039    0.9986  0.000  0.413  0.587\n",
      "521     0.9993  0.056  0.364  0.580\n",
      "4801    0.9998  0.024  0.402  0.574\n",
      "4819    0.9972  0.000  0.430  0.570\n",
      "4063    0.9988  0.010  0.425  0.565\n",
      "2855    0.9997  0.099  0.351  0.551\n",
      "2158    0.9992  0.000  0.457  0.543\n",
      "3093    0.9995  0.008  0.460  0.532\n",
      "      compound    neg    neu    pos\n",
      "1486   -0.9995  0.603  0.324  0.073\n",
      "3303   -0.9980  0.566  0.434  0.000\n",
      "4915   -0.9982  0.513  0.431  0.055\n",
      "3372   -0.9986  0.486  0.499  0.014\n",
      "3967   -0.9980  0.476  0.411  0.114\n",
      "2368   -0.9957  0.474  0.471  0.055\n",
      "3701   -0.9982  0.473  0.436  0.091\n",
      "3047   -0.9992  0.470  0.462  0.068\n",
      "601    -0.9993  0.455  0.486  0.060\n",
      "937    -0.9987  0.454  0.378  0.168\n"
     ]
    }
   ],
   "source": [
    "top_pos = sentiment_df.copy()\n",
    "top_neg = sentiment_df.copy()\n",
    "\n",
    "top_pos.sort_values(by=\"pos\", ascending=False, inplace=True)\n",
    "top_neg.sort_values(by=\"neg\", ascending=False, inplace=True)\n",
    "\n",
    "top_pos = top_pos[0:10]\n",
    "top_neg = top_neg[0:10]\n",
    "print(top_pos)\n",
    "print(top_neg)"
   ]
  },
  {
   "cell_type": "code",
   "execution_count": 13,
   "metadata": {},
   "outputs": [
    {
     "name": "stdout",
     "output_type": "stream",
     "text": [
      "[('love', 160), ('yeah', 83), ('yes', 56), ('woo', 54), ('oh', 41), ('happy', 39), ('free', 35), ('easy', 33), ('believe', 33), ('lifesaver', 31), ('praise', 30), ('great', 25), ('time', 23), ('baby', 21), ('forever', 21)]\n",
      "<FreqDist with 454 samples and 1851 outcomes>\n"
     ]
    },
    {
     "data": {
      "image/png": "[encoded data removed]",
      "text/plain": [
       "<Figure size 432x288 with 1 Axes>"
      ]
     },
     "metadata": {
      "needs_background": "light"
     },
     "output_type": "display_data"
    },
    {
     "data": {
      "text/plain": [
       "<matplotlib.axes._subplots.AxesSubplot at 0x1a1848f358>"
      ]
     },
     "execution_count": 13,
     "metadata": {},
     "output_type": "execute_result"
    }
   ],
   "source": [
    "# Select the songs with positive probabilities larger than 0.5\n",
    "posisongs = sentiment_df.loc[sentiment_df[\"pos\"] > 0.5]\n",
    "\n",
    "# Get the indices for the positive songs and take the corresponding lyrics\n",
    "posi = lyrics.iloc[posisongs.index]\n",
    "\n",
    "# Make a new corpus for the positive lyrics and get rid of the apostrophes\n",
    "corpusposi = posi.iloc[:,-1].tolist()\n",
    "corpusp = [x.lower().replace('\\n', '').replace('.','').replace(',','').replace(\"(\",'').replace(\")\",'').replace(\"?\",'') for x in corpusposi]\n",
    "\n",
    "# Eliminate the stopwords and find the most frequent words for the positive lyrics\n",
    "corpusps = ' '.join(corpusp)\n",
    "\n",
    "corpusps = tknzr.tokenize(corpusps)\n",
    "corpusps = [word for word in corpusps if not word in stop_words]\n",
    "\n",
    "fdistposi = nltk.FreqDist(corpusps)\n",
    "print(fdistposi.most_common(15))\n",
    "print(fdistposi)\n",
    "fdistposi.plot(15, cumulative = True, title = \"Positive Lyrics\")"
   ]
  },
  {
   "cell_type": "code",
   "execution_count": 14,
   "metadata": {},
   "outputs": [
    {
     "name": "stdout",
     "output_type": "stream",
     "text": [
      "[('loneliness', 34), (\"'\", 20), ('fire', 14), ('come', 8), ('said', 7), ('kept', 7), ('saying', 7), ('fight', 7), ('botherin', 4), ('round', 4), ('worryin', 4), ('door', 3), ('well', 3), ('say', 3), ('ending', 3)]\n",
      "<FreqDist with 104 samples and 241 outcomes>\n"
     ]
    },
    {
     "data": {
      "image/png": "[encoded data removed]",
      "text/plain": [
       "<Figure size 432x288 with 1 Axes>"
      ]
     },
     "metadata": {
      "needs_background": "light"
     },
     "output_type": "display_data"
    },
    {
     "data": {
      "text/plain": [
       "<matplotlib.axes._subplots.AxesSubplot at 0x1a185c5278>"
      ]
     },
     "execution_count": 14,
     "metadata": {},
     "output_type": "execute_result"
    }
   ],
   "source": [
    "# Select the songs with negative probabilities larger than 0.5\n",
    "negasongs = sentiment_df.loc[sentiment_df[\"neg\"] > 0.5]\n",
    "\n",
    "# Get the indices for the negative songs and take the corresponding lyrics\n",
    "nega = lyrics.iloc[negasongs.index]\n",
    "\n",
    "# Make a new corpus for the negative lyrics and get rid of the apostrophes\n",
    "corpusnega = nega.iloc[:,-1].tolist()\n",
    "corpusn = [x.lower().replace('\\n', '').replace('.','').replace(',','').replace(\"(\",'').replace(\")\",'').replace(\"?\",'') for x in corpusnega]\n",
    "\n",
    "# Eliminate the stopwords and find the most frequent words for the negative lyrics\n",
    "corpusns = ' '.join(corpusn)\n",
    "\n",
    "corpusns = tknzr.tokenize(corpusns)\n",
    "corpusns = [word for word in corpusns if not word in stop_words]\n",
    "\n",
    "fdistnega = nltk.FreqDist(corpusns)\n",
    "print(fdistnega.most_common(15))\n",
    "print(fdistnega)\n",
    "fdistnega.plot(15, cumulative = True, title = \"Negative Lyrics\")"
   ]
  },
  {
   "cell_type": "code",
   "execution_count": 15,
   "metadata": {},
   "outputs": [
    {
     "name": "stdout",
     "output_type": "stream",
     "text": [
      "['act', 'affair', 'afraid', 'age', 'ago', 'ah', 'ahead', 'ain', 'aint', 'air']\n",
      "['different', 'dig', 'dirt', 'dirty', 'distance', 'doctor', 'does', 'doesn', 'dog', 'doin', 'doing', 'don', 'doo', 'door', 'double', 'doubt', 'drag', 'dream', 'dreaming', 'dreams', 'dress', 'dressed', 'drink', 'drinking', 'drive', 'driving', 'drop', 'dry', 'dust', 'dying', 'early', 'earth', 'easy', 'eat', 'edge', 'ee', 'electric', 'em', 'end', 'endless', 'ends', 'enemy', 'escape', 'evening', 'everybody', 'everyday', 'evil', 'explain', 'eye', 'eyes', 'face', 'faces', 'fade', 'fair', 'faith', 'fall', 'falling', 'falls', 'fame', 'family', 'far', 'farther', 'fast', 'fate', 'father', 'fear', 'feel', 'feelin', 'feeling', 'feelings', 'feels', 'feet', 'fell', 'felt', 'fields', 'fight', 'fighting', 'filled', 'finally', 'fine', 'finger', 'fingers', 'fit', 'flame', 'floor', 'flow', 'flowers', 'fly', 'flying', 'follow', 'food', 'fool', 'foot', 'forever', 'forget', 'forgive', 'free', 'freedom', 'friend', 'friends']\n"
     ]
    }
   ],
   "source": [
    "# Topic Modeling\n",
    "from sklearn.decomposition import LatentDirichletAllocation\n",
    "from sklearn.feature_extraction.text import CountVectorizer \n",
    "\n",
    "cvect = CountVectorizer(stop_words=\"english\", max_features=1000)\n",
    "X = cvect.fit_transform(corpus)\n",
    "\n",
    "vocab = cvect.get_feature_names() \n",
    "\n",
    "print(vocab[0:10])\n",
    "\n",
    "print(vocab[200:300])"
   ]
  },
  {
   "cell_type": "code",
   "execution_count": 17,
   "metadata": {},
   "outputs": [
    {
     "name": "stdout",
     "output_type": "stream",
     "text": [
      "Topic id: 0\n",
      "oh: 0.06393945291098202\n",
      "baby: 0.049447444595563744\n",
      "yeah: 0.039836545881826495\n",
      "got: 0.03393799601487838\n",
      "don: 0.02767481742436388\n",
      "gonna: 0.025248087446755513\n",
      "know: 0.019915130891721186\n",
      "just: 0.014495586156401698\n",
      "hey: 0.013959851470105153\n",
      "wanna: 0.013328920478245024\n",
      "ooh: 0.012785663726729032\n",
      "good: 0.012709198594382808\n",
      "want: 0.012443157193363072\n",
      "love: 0.011862877112014565\n",
      "like: 0.011744798488821782\n",
      "\n",
      "Topic id: 1\n",
      "ll: 0.02415933116699973\n",
      "ve: 0.023174967046724556\n",
      "away: 0.016922403669757512\n",
      "life: 0.016614467537461118\n",
      "time: 0.016484434551405903\n",
      "way: 0.014772811543359335\n",
      "world: 0.01433953885320655\n",
      "know: 0.012580525650447991\n",
      "just: 0.012150849299539744\n",
      "don: 0.010815118162527046\n",
      "day: 0.008500826019475187\n",
      "let: 0.008491774615218856\n",
      "mind: 0.008389255943795498\n",
      "feel: 0.007515739605975179\n",
      "like: 0.0073738452260615735\n",
      "\n",
      "Topic id: 2\n",
      "love: 0.0702933634129234\n",
      "don: 0.03876191250433579\n",
      "know: 0.03148212053030314\n",
      "just: 0.03134529486722593\n",
      "want: 0.025520224499186454\n",
      "ll: 0.018423447206815675\n",
      "heart: 0.01706553382453833\n",
      "like: 0.01696767269721013\n",
      "say: 0.015392046922048147\n",
      "need: 0.014923824267405503\n",
      "time: 0.014106058237928943\n",
      "let: 0.012386874179111091\n",
      "feel: 0.012028024810997805\n",
      "make: 0.01154909298375915\n",
      "ve: 0.010219900194595146\n",
      "\n",
      "Topic id: 3\n",
      "like: 0.029551031453297735\n",
      "la: 0.023864470300506053\n",
      "got: 0.01611298850183207\n",
      "money: 0.016014792221571213\n",
      "man: 0.015251354625441346\n",
      "ain: 0.014708462376851774\n",
      "chorus: 0.011937840340609953\n",
      "don: 0.011432938735820014\n",
      "boy: 0.011021205587536777\n",
      "lord: 0.010664905893354166\n",
      "ya: 0.010382283149067948\n",
      "let: 0.01031931512467523\n",
      "god: 0.009790027070225714\n",
      "em: 0.009401514220431242\n",
      "just: 0.009394301747946728\n",
      "\n",
      "Topic id: 4\n",
      "come: 0.023751039427120126\n",
      "night: 0.018960251493961928\n",
      "like: 0.01380048634827868\n",
      "home: 0.012461694625879538\n",
      "long: 0.012318109296324488\n",
      "day: 0.01196154718297891\n",
      "old: 0.011907484052845658\n",
      "ll: 0.011556773897655706\n",
      "song: 0.009880894562902755\n",
      "time: 0.009377607500366375\n",
      "na: 0.009103729154743443\n",
      "blue: 0.008552839996082888\n",
      "said: 0.008375580320465927\n",
      "sing: 0.008163006156996767\n",
      "little: 0.007490133613760209\n",
      "\n",
      "Song 1\n",
      "[0.6573985  0.26713064 0.00320408 0.00318347 0.06908331]\n",
      "top topic: 0\n",
      "\n",
      "\n",
      "Song 2\n",
      "[0.00450748 0.12993665 0.4024731  0.00448538 0.4585974 ]\n",
      "top topic: 4\n",
      "\n",
      "\n",
      "Song 3\n",
      "[0.00194879 0.11868337 0.30796518 0.12027804 0.45112461]\n",
      "top topic: 4\n",
      "\n",
      "\n",
      "Song 4\n",
      "[0.00370186 0.00365837 0.334394   0.54165941 0.11658637]\n",
      "top topic: 3\n",
      "\n",
      "\n",
      "Song 5\n",
      "[0.63967681 0.00419116 0.34773051 0.00418684 0.00421468]\n",
      "top topic: 0\n",
      "\n",
      "\n"
     ]
    }
   ],
   "source": [
    "from sklearn.decomposition import LatentDirichletAllocation \n",
    "\n",
    "NUM_TOPICS = 5\n",
    "\n",
    "# initialize the LDA object, passing in the number of topics\n",
    "topic_model = LatentDirichletAllocation(n_components = NUM_TOPICS)  \n",
    "\n",
    "# fit the model with your term frequency matrix\n",
    "topic_model.fit(X) \n",
    "\n",
    "# normalize the per-topic token probabilities\n",
    "topic_norm = topic_model.components_ / topic_model.components_.sum(axis=1)[:, np.newaxis]\n",
    "\n",
    "# print the top-10 tokens in terms of probability for each topic\n",
    "TOP_N = 15\n",
    "for idx, topic in enumerate(topic_norm):\n",
    "    print(\"Topic id: {}\".format(idx))\n",
    "  #print(topic)\n",
    "    top_tokens = np.argsort(topic)[::-1] \n",
    "    for i in range(TOP_N):\n",
    "        print('{}: {}'.format(vocab[top_tokens[i]], topic[top_tokens[i]]))\n",
    "    print()\n",
    "\n",
    "# use the transform() function to estimate then  (only the first five songs to compate)\n",
    "docs_sample = topic_model.transform(X[:5])\n",
    "# print the distribution over topics for the songs\n",
    "for i in range(5):\n",
    "    print('Song ' + str(i+1))\n",
    "    row = docs_sample[i]\n",
    "    print(row)\n",
    "    top_topics = np.argsort(row)[::-1]\n",
    "    print('top topic: {}'.format(top_topics[0])) \n",
    "    print(\"\\n\")"
   ]
  },
  {
   "cell_type": "code",
   "execution_count": null,
   "metadata": {},
   "outputs": [],
   "source": []
  }
 ],
 "metadata": {
  "kernelspec": {
   "display_name": "Python 3",
   "language": "python",
   "name": "python3"
  },
  "language_info": {
   "codemirror_mode": {
    "name": "ipython",
    "version": 3
   },
   "file_extension": ".py",
   "mimetype": "text/x-python",
   "name": "python",
   "nbconvert_exporter": "python",
   "pygments_lexer": "ipython3",
   "version": "3.8.3"
  }
 },
 "nbformat": 4,
 "nbformat_minor": 4
}
